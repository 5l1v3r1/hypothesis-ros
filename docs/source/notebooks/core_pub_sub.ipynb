{
 "cells": [
  {
   "cell_type": "code",
   "execution_count": 1,
   "metadata": {},
   "outputs": [],
   "source": [
    "from docker import from_env\n",
    "from time import sleep\n",
    "\n",
    "cli = from_env(version='auto')\n",
    "roscore = cli.containers.run(image='osrf/ros:indigo-desktop-trusty', network='host', command='roscore', detach=True, tty=True)\n",
    "sleep(1)\n",
    "publisher = cli.containers.run(image='osrf/ros:indigo-desktop-trusty', network='host', command='rostopic pub /fuzzed_topic std_msgs/UInt8 42 -r 10', detach=True, tty=True)\n",
    "subscriber = cli.containers.run(image='osrf/ros:indigo-desktop-trusty', network='host', command='rostopic echo /fuzzed_topic', detach=True, tty=True)\n",
    "sleep(1)"
   ]
  },
  {
   "cell_type": "code",
   "execution_count": 2,
   "metadata": {},
   "outputs": [
    {
     "data": {
      "text/plain": [
       "'data: 42\\r\\n---\\r\\ndata: 42\\r\\n---\\r\\ndata: 42\\r\\n---\\r\\ndata: 42\\r\\n---\\r\\ndata: 42\\r\\n---\\r\\ndata: 42\\r\\n---\\r\\ndata: 42\\r\\n---\\r\\n'"
      ]
     },
     "execution_count": 2,
     "metadata": {},
     "output_type": "execute_result"
    }
   ],
   "source": [
    "subscriber.logs()"
   ]
  },
  {
   "cell_type": "code",
   "execution_count": 3,
   "metadata": {},
   "outputs": [
    {
     "name": "stdout",
     "output_type": "stream",
     "text": [
      "CONTAINER ID        IMAGE                            COMMAND                  CREATED             STATUS              PORTS               NAMES\n",
      "4f6419f9f517        osrf/ros:indigo-desktop-trusty   \"/ros_entrypoint.sh …\"   1 second ago        Up 1 second                             modest_lalande\n",
      "a8f3c1ca8289        osrf/ros:indigo-desktop-trusty   \"/ros_entrypoint.sh …\"   2 seconds ago       Up 1 second                             trusting_ptolemy\n",
      "fa20ccdb90bf        osrf/ros:indigo-desktop-trusty   \"/ros_entrypoint.sh …\"   3 seconds ago       Up 2 seconds                            loving_hamilton\n"
     ]
    }
   ],
   "source": [
    "!docker container ls"
   ]
  },
  {
   "cell_type": "code",
   "execution_count": 4,
   "metadata": {},
   "outputs": [],
   "source": [
    "publisher.stop()\n",
    "subscriber.stop()\n",
    "roscore.stop()\n",
    "publisher.remove()\n",
    "subscriber.remove()\n",
    "roscore.remove()"
   ]
  },
  {
   "cell_type": "code",
   "execution_count": 5,
   "metadata": {},
   "outputs": [
    {
     "name": "stdout",
     "output_type": "stream",
     "text": [
      "CONTAINER ID        IMAGE               COMMAND             CREATED             STATUS              PORTS               NAMES\n"
     ]
    }
   ],
   "source": [
    "!docker container ls"
   ]
  }
 ],
 "metadata": {
  "kernelspec": {
   "display_name": "Python 2",
   "language": "python",
   "name": "python2"
  },
  "language_info": {
   "codemirror_mode": {
    "name": "ipython",
    "version": 2
   },
   "file_extension": ".py",
   "mimetype": "text/x-python",
   "name": "python",
   "nbconvert_exporter": "python",
   "pygments_lexer": "ipython2",
   "version": "2.7.12"
  }
 },
 "nbformat": 4,
 "nbformat_minor": 2
}
