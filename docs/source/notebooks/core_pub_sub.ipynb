{
 "cells": [
  {
   "cell_type": "code",
   "execution_count": 1,
   "metadata": {},
   "outputs": [],
   "source": [
    "import docker\n",
    "\n",
    "cli = docker.from_env(version='auto')\n",
    "roscore = cli.containers.run(image='osrf/ros:indigo-desktop-trusty', network='host', command='roscore', detach=True)\n",
    "publisher = cli.containers.run(image='osrf/ros:indigo-desktop-trusty', network='host', command='rostopic pub /fuzzed_topic std_msgs/UInt8 42 -r 1', detach=True)\n",
    "subscriber = cli.containers.run(image='osrf/ros:indigo-desktop-trusty', network='host', command='rostopic echo /fuzzed_topic', detach=True)"
   ]
  },
  {
   "cell_type": "code",
   "execution_count": 2,
   "metadata": {
    "scrolled": true
   },
   "outputs": [
    {
     "data": {
      "text/plain": [
       "'data: 42\\n---\\ndata: 42\\n---\\ndata: 42\\n---\\ndata: 42\\n---\\ndata: 42\\n---\\n'"
      ]
     },
     "execution_count": 2,
     "metadata": {},
     "output_type": "execute_result"
    }
   ],
   "source": [
    "subscriber.logs()"
   ]
  },
  {
   "cell_type": "code",
   "execution_count": 3,
   "metadata": {},
   "outputs": [],
   "source": [
    "publisher.stop()\n",
    "subscriber.stop()\n",
    "roscore.stop()"
   ]
  }
 ],
 "metadata": {
  "kernelspec": {
   "display_name": "Python 2",
   "language": "python",
   "name": "python2"
  },
  "language_info": {
   "codemirror_mode": {
    "name": "ipython",
    "version": 2
   },
   "file_extension": ".py",
   "mimetype": "text/x-python",
   "name": "python",
   "nbconvert_exporter": "python",
   "pygments_lexer": "ipython2",
   "version": "2.7.12"
  }
 },
 "nbformat": 4,
 "nbformat_minor": 2
}
