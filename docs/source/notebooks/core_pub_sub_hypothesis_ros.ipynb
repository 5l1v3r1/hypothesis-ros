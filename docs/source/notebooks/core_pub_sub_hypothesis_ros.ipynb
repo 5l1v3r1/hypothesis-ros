{
 "cells": [
  {
   "cell_type": "code",
   "execution_count": 1,
   "metadata": {},
   "outputs": [],
   "source": [
    "import docker\n",
    "import time\n",
    "from hypothesis_ros.ros1.generators import builtin_msg_field_types\n",
    "\n",
    "cli = docker.from_env(version='auto')\n",
    "roscore = cli.containers.run(image='osrf/ros:indigo-desktop-trusty', network='host', command='roscore', detach=True)\n",
    "generated_value = builtin_msg_field_types.uint8().example()\n",
    "publisher = cli.containers.run(image='osrf/ros:indigo-desktop-trusty', network='host', command='rostopic pub /fuzzed_topic std_msgs/UInt8 {} -r 1'.format(generated_value), detach=True)\n",
    "subscriber = cli.containers.run(image='osrf/ros:indigo-desktop-trusty', network='host', command='rostopic echo /fuzzed_topic', detach=True)\n",
    "time.sleep(5)"
   ]
  },
  {
   "cell_type": "code",
   "execution_count": 2,
   "metadata": {},
   "outputs": [],
   "source": [
    "subscriber.logs()"
   ]
  },
  {
   "cell_type": "code",
   "execution_count": 3,
   "metadata": {},
   "outputs": [],
   "source": [
    "publisher.stop()\n",
    "subscriber.stop()\n",
    "roscore.stop()\n",
    "publisher.remove()\n",
    "subscriber.remove()\n",
    "roscore.remove()"
   ]
  }
 ],
 "metadata": {
  "kernelspec": {
   "display_name": "Python 2",
   "language": "python",
   "name": "python2"
  },
  "language_info": {
   "codemirror_mode": {
    "name": "ipython",
    "version": 2
   },
   "file_extension": ".py",
   "mimetype": "text/x-python",
   "name": "python",
   "nbconvert_exporter": "python",
   "pygments_lexer": "ipython2",
   "version": "2.7.12"
  }
 },
 "nbformat": 4,
 "nbformat_minor": 2
}
